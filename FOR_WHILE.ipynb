{
  "nbformat": 4,
  "nbformat_minor": 0,
  "metadata": {
    "colab": {
      "name": "FOR WHILE",
      "provenance": []
    },
    "kernelspec": {
      "name": "python3",
      "display_name": "Python 3"
    },
    "language_info": {
      "name": "python"
    }
  },
  "cells": [
    {
      "cell_type": "code",
      "execution_count": null,
      "metadata": {
        "id": "UiuwL6YVVpkz"
      },
      "outputs": [],
      "source": [
        "#1\n",
        "n=0\n",
        "x=int(input(\"ingrese un numero: \"))\n",
        "for y in range(1,x):\n",
        "  if x%y==0:\n",
        "    n=n+1\n",
        "if n==2:\n",
        "  print(\"No es primo\")\n",
        "else:\n",
        "  print(\"Es primo\")"
      ]
    },
    {
      "cell_type": "code",
      "source": [
        "#2\n",
        "\n",
        "x=0\n",
        "y=1\n",
        "w=0\n",
        "print(x)\n",
        "print(y)\n",
        "for z in range(1,29):\n",
        "  w=x+y\n",
        "  (x,y)=(y,x)\n",
        "  y=w\n",
        "  print(w)"
      ],
      "metadata": {
        "id": "nXaX58gbV4hX"
      },
      "execution_count": null,
      "outputs": []
    },
    {
      "cell_type": "code",
      "source": [
        "#3\n",
        "N=int(input(\"escriba un numero: \"))\n",
        "z=1\n",
        "while N>0:\n",
        "  z=N*z\n",
        "  N=N-1\n",
        "print(f\"{N}!={z}\")"
      ],
      "metadata": {
        "id": "1C_r7BhyX8wR"
      },
      "execution_count": null,
      "outputs": []
    },
    {
      "cell_type": "code",
      "source": [
        "#4\n",
        "for y in range(1,10):\n",
        "  N=int(input(\"escriba un número: \"))\n",
        "  z=1\n",
        "  for x in range (N,1,-1):\n",
        "    z=x*z434\n",
        "  print(f\"{N}!={z}\")"
      ],
      "metadata": {
        "id": "2v_5PqU8eQLm"
      },
      "execution_count": null,
      "outputs": []
    }
  ]
}