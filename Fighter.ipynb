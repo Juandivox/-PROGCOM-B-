{
  "nbformat": 4,
  "nbformat_minor": 0,
  "metadata": {
    "colab": {
      "provenance": []
    },
    "kernelspec": {
      "name": "python3",
      "display_name": "Python 3"
    },
    "language_info": {
      "name": "python"
    }
  },
  "cells": [
    {
      "cell_type": "code",
      "execution_count": null,
      "metadata": {
        "colab": {
          "base_uri": "https://localhost:8080/",
          "height": 591
        },
        "id": "n2OlvdDFNJfR",
        "outputId": "3f27ac0c-bce6-4cee-91d2-4ad45d6d5365"
      },
      "outputs": [
        {
          "name": "stdout",
          "output_type": "stream",
          "text": [
            "Número de estudiantes clase 1: 3\n",
            "Número de estudiantes clase 2: 2\n",
            "Número de estudiantes clase 3: 3\n",
            "Nombre: Juan\n",
            "Nota 1: 10\n",
            "Nota 2: 8\n",
            "Nota 3: 9\n",
            "Nombre: David\n",
            "Nota 1: 10\n",
            "Nota 2: 10\n",
            "Nota 3: 10\n",
            "Nombre: Culo\n",
            "Nota 1: 4\n",
            "Nota 2: 3\n",
            "Nota 3: 4\n",
            "Nombre: asd\n",
            "Nota 1: 1\n",
            "Nota 2: 1\n",
            "Nota 3: 1\n"
          ]
        },
        {
          "output_type": "error",
          "ename": "TypeError",
          "evalue": "ignored",
          "traceback": [
            "\u001b[0;31m---------------------------------------------------------------------------\u001b[0m",
            "\u001b[0;31mTypeError\u001b[0m                                 Traceback (most recent call last)",
            "\u001b[0;32m<ipython-input-14-89a13cea54ae>\u001b[0m in \u001b[0;36m<module>\u001b[0;34m\u001b[0m\n\u001b[1;32m     32\u001b[0m   \u001b[0mclase2\u001b[0m\u001b[0;34m[\u001b[0m\u001b[0;34m\"notas2\"\u001b[0m\u001b[0;34m]\u001b[0m\u001b[0;34m[\u001b[0m\u001b[0ma\u001b[0m\u001b[0;34m]\u001b[0m\u001b[0;34m=\u001b[0m\u001b[0minput\u001b[0m\u001b[0;34m(\u001b[0m\u001b[0;34m\"Nota 2: \"\u001b[0m\u001b[0;34m)\u001b[0m\u001b[0;34m\u001b[0m\u001b[0;34m\u001b[0m\u001b[0m\n\u001b[1;32m     33\u001b[0m   \u001b[0mclase2\u001b[0m\u001b[0;34m[\u001b[0m\u001b[0;34m\"notas3\"\u001b[0m\u001b[0;34m]\u001b[0m\u001b[0;34m[\u001b[0m\u001b[0ma\u001b[0m\u001b[0;34m]\u001b[0m\u001b[0;34m=\u001b[0m\u001b[0minput\u001b[0m\u001b[0;34m(\u001b[0m\u001b[0;34m\"Nota 3: \"\u001b[0m\u001b[0;34m)\u001b[0m\u001b[0;34m\u001b[0m\u001b[0;34m\u001b[0m\u001b[0m\n\u001b[0;32m---> 34\u001b[0;31m   \u001b[0mclase2\u001b[0m\u001b[0;34m[\u001b[0m\u001b[0;34m\"prom\"\u001b[0m\u001b[0;34m]\u001b[0m\u001b[0;34m[\u001b[0m\u001b[0ma\u001b[0m\u001b[0;34m]\u001b[0m\u001b[0;34m=\u001b[0m\u001b[0;34m(\u001b[0m\u001b[0mclase2\u001b[0m\u001b[0;34m[\u001b[0m\u001b[0;34m\"notas1\"\u001b[0m\u001b[0;34m]\u001b[0m\u001b[0;34m[\u001b[0m\u001b[0ma\u001b[0m\u001b[0;34m]\u001b[0m\u001b[0;34m*\u001b[0m\u001b[0mclase2\u001b[0m\u001b[0;34m[\u001b[0m\u001b[0;34m\"notas2\"\u001b[0m\u001b[0;34m]\u001b[0m\u001b[0;34m[\u001b[0m\u001b[0ma\u001b[0m\u001b[0;34m]\u001b[0m\u001b[0;34m*\u001b[0m\u001b[0mclase2\u001b[0m\u001b[0;34m[\u001b[0m\u001b[0;34m\"notas3\"\u001b[0m\u001b[0;34m]\u001b[0m\u001b[0;34m[\u001b[0m\u001b[0ma\u001b[0m\u001b[0;34m]\u001b[0m\u001b[0;34m)\u001b[0m\u001b[0;34m/\u001b[0m\u001b[0;36m3\u001b[0m\u001b[0;34m\u001b[0m\u001b[0;34m\u001b[0m\u001b[0m\n\u001b[0m\u001b[1;32m     35\u001b[0m \u001b[0;32mfor\u001b[0m \u001b[0ma\u001b[0m \u001b[0;32min\u001b[0m \u001b[0mrange\u001b[0m\u001b[0;34m(\u001b[0m\u001b[0;36m0\u001b[0m\u001b[0;34m,\u001b[0m\u001b[0mn3\u001b[0m\u001b[0;34m)\u001b[0m\u001b[0;34m:\u001b[0m\u001b[0;34m\u001b[0m\u001b[0;34m\u001b[0m\u001b[0m\n\u001b[1;32m     36\u001b[0m   \u001b[0mclase3\u001b[0m\u001b[0;34m[\u001b[0m\u001b[0;34m\"est\"\u001b[0m\u001b[0;34m]\u001b[0m\u001b[0;34m[\u001b[0m\u001b[0ma\u001b[0m\u001b[0;34m]\u001b[0m\u001b[0;34m=\u001b[0m\u001b[0minput\u001b[0m\u001b[0;34m(\u001b[0m\u001b[0;34m\"Nombre: \"\u001b[0m\u001b[0;34m)\u001b[0m\u001b[0;34m\u001b[0m\u001b[0;34m\u001b[0m\u001b[0m\n",
            "\u001b[0;31mTypeError\u001b[0m: can't multiply sequence by non-int of type 'str'"
          ]
        }
      ],
      "source": [
        "import pandas as pd\n",
        "clase1={\"est\":[\"None\"],\"notas1\":[\"None\"],\"notas2\":[\"None\"],\"notas3\":[\"None\"],\"prom\":[\"None\"]}\n",
        "clase2={\"est\":[\"None\"],\"notas1\":[\"None\"],\"notas2\":[\"None\"],\"notas3\":[\"None\"],\"prom\":[\"None\"]}\n",
        "clase3={\"est\":[\"None\"],\"notas1\":[\"None\"],\"notas2\":[\"None\"],\"notas3\":[\"None\"],\"prom\":[\"None\"]}\n",
        "n1=int(input(\"Número de estudiantes clase 1: \"))\n",
        "n2=int(input(\"Número de estudiantes clase 2: \"))\n",
        "n3=int(input(\"Número de estudiantes clase 3: \"))\n",
        "clase1[\"est\"]=clase1[\"est\"]*n1\n",
        "clase1[\"notas1\"]=clase1[\"notas1\"]*n1\n",
        "clase1[\"notas2\"]=clase1[\"notas2\"]*n1\n",
        "clase1[\"notas3\"]=clase1[\"notas3\"]*n1\n",
        "clase1[\"prom\"]=clase1[\"prom\"]*n1\n",
        "clase2[\"est\"]=clase2[\"est\"]*n2\n",
        "clase2[\"notas1\"]=clase2[\"notas1\"]*n2\n",
        "clase2[\"notas2\"]=clase2[\"notas2\"]*n2\n",
        "clase2[\"notas3\"]=clase2[\"notas3\"]*n2\n",
        "clase2[\"prom\"]=clase2[\"prom\"]*n2\n",
        "clase3[\"est\"]=clase3[\"est\"]*n3\n",
        "clase3[\"notas1\"]=clase3[\"notas1\"]*n3\n",
        "clase3[\"notas2\"]=clase3[\"notas2\"]*n3\n",
        "clase3[\"notas3\"]=clase3[\"notas3\"]*n3\n",
        "clase3[\"prom\"]=clase3[\"prom\"]*n3\n",
        "print(\"Clase 1\")\n",
        "for a in range(0,n1):\n",
        "  clase1[\"est\"][a]=input(\"Nombre: \")\n",
        "  clase1[\"notas1\"][a]=int(input(\"Nota 1: \"))\n",
        "  clase1[\"notas2\"][a]=int(input(\"Nota 2: \"))\n",
        "  clase1[\"notas3\"][a]=int(input(\"Nota 3: \"))\n",
        "  clase1[\"prom\"][a]=(clase1[\"notas1\"][a]*clase1[\"notas2\"][a]*clase1[\"notas3\"][a])/3\n",
        "print(\"Clase 2\")\n",
        "for a in range(0,n2):\n",
        "  clase2[\"est\"][a]=input(\"Nombre: \")\n",
        "  clase2[\"notas1\"][a]=int(input(\"Nota 1: \"))\n",
        "  clase2[\"notas2\"][a]=int(input(\"Nota 2: \"))\n",
        "  clase2[\"notas3\"][a]=int(input(\"Nota 3: \"))\n",
        "  clase2[\"prom\"][a]=(clase2[\"notas1\"][a]*clase2[\"notas2\"][a]*clase2[\"notas3\"][a])/3\n",
        "print(\"Clase 3\")\n",
        "for a in range(0,n3):\n",
        "  clase3[\"est\"][a]=int(input(\"Nombre: \"))\n",
        "  clase3[\"notas1\"][a]=int(input(\"Nota 1: \"))\n",
        "  clase3[\"notas2\"][a]=int(input(\"Nota 2: \"))\n",
        "  clase3[\"notas3\"][a]=int(input(\"Nota 3: \"))\n",
        "  clase3[\"prom\"][a]=(clase3[\"notas1\"][a]*clase3[\"notas2\"][a]*clase3[\"notas3\"][a])/3\n",
        "\n",
        "print(\"\\nClase1\\n\",pd.DataFrame.from_dict(clase1))\n",
        "print(\"\\nClase2\\n\",pd.DataFrame.from_dict(clase2))\n",
        "print(\"\\nClase3\\n\",pd.DataFrame.from_dict(clase3))"
      ]
    },
    {
      "cell_type": "code",
      "source": [
        "a=[\"none\"]\n",
        "b=int(input(\"Number\"))\n",
        "a=a*b\n",
        "a"
      ],
      "metadata": {
        "colab": {
          "base_uri": "https://localhost:8080/"
        },
        "id": "vTf_57yqOyoa",
        "outputId": "b7eb7f1a-abb8-43b0-bed8-e50b74a8e091"
      },
      "execution_count": null,
      "outputs": [
        {
          "name": "stdout",
          "output_type": "stream",
          "text": [
            "Number5\n"
          ]
        },
        {
          "output_type": "execute_result",
          "data": {
            "text/plain": [
              "['none', 'none', 'none', 'none', 'none']"
            ]
          },
          "metadata": {},
          "execution_count": 1
        }
      ]
    }
  ]
}