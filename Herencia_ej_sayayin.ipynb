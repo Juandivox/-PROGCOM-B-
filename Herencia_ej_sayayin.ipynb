{
  "nbformat": 4,
  "nbformat_minor": 0,
  "metadata": {
    "colab": {
      "provenance": []
    },
    "kernelspec": {
      "name": "python3",
      "display_name": "Python 3"
    },
    "language_info": {
      "name": "python"
    }
  },
  "cells": [
    {
      "cell_type": "code",
      "execution_count": 19,
      "metadata": {
        "id": "Ahx4s0k-haez"
      },
      "outputs": [],
      "source": [
        "class Humano:\n",
        "  def __init__(self,nombre,ki,color_piel,cabello,altura,color_ojos,brazos,piernas,sexo,peso,IQ,RH,belleza):\n",
        "    self.nombre=nombre\n",
        "    self.ki=ki\n",
        "    self.color_piel=color_piel\n",
        "    self.cabello=cabello\n",
        "    self.altura=altura\n",
        "    self.color_ojos=color_ojos\n",
        "    self.brazos=brazos\n",
        "    self.piernas=piernas\n",
        "    self.peso=peso\n",
        "    self.sexo=sexo\n",
        "    self.IQ=IQ\n",
        "    self.RH=RH\n",
        "    self.belleza=belleza\n",
        "\n",
        "  def movilizarse(self,vel):\n",
        "    if vel==0:\n",
        "      return f\"{self.nombre} esta en estado de reposo\"\n",
        "    elif vel<1:\n",
        "      return f\"{self.nombre} esta gateando\"\n",
        "    elif vel<4:\n",
        "      return f\"{self.nombre} esta caminando descalso\"\n",
        "    elif vel<8:\n",
        "      return f\"{self.nombre} esta caminando\"\n",
        "    elif vel<10:\n",
        "      return f\"{self.nombre} esta corriendo descalso\"\n",
        "    elif vel<13:\n",
        "      return f\"{self.nombre} esta corriendo\"\n",
        "    elif vel<100:\n",
        "      return f\"{self.nombre} esta volando velocidad crusero\"\n",
        "    elif vel<12000:\n",
        "      return f\"{self.nombre} esta volando velocidades muy altas\"\n",
        "\n",
        "  def trabajo(self,trav):\n",
        "    if trav==0:\n",
        "      return f\"{self.nombre} trapito\"\n",
        "    elif trav==1:\n",
        "      return f\"{self.nombre} indijente\"\n",
        "    elif trav==2:\n",
        "      return f\"{self.nombre} mototaxista\"\n",
        "    elif trav==3:\n",
        "      return f\"{self.nombre} inversor en bitcoin (pierde todo)\"\n",
        "    elif trav==4:\n",
        "      return f\"{self.nombre} inversor en goarbit\"\n",
        "    elif trav==5:\n",
        "      return f\"{self.nombre} gota a gota\"\n",
        "    elif trav==6:\n",
        "      return f\"{self.nombre} desempleado\"\n",
        "    \n",
        "\n"
      ]
    },
    {
      "cell_type": "code",
      "source": [
        "h=Humano(\"juan david ramirez\",0,\"blanquito\",\"si, castaño\",1.69,\"marrones\",2,2,50,\"sexo masculino,o sexo? porque eso no\",15,\"0+\",5)"
      ],
      "metadata": {
        "id": "bResn-gToKIG"
      },
      "execution_count": 20,
      "outputs": []
    },
    {
      "cell_type": "code",
      "source": [
        "h.movilizarse(4)"
      ],
      "metadata": {
        "colab": {
          "base_uri": "https://localhost:8080/",
          "height": 36
        },
        "id": "ESLVibv5hnav",
        "outputId": "7703ebae-656a-4894-f385-997011005038"
      },
      "execution_count": 21,
      "outputs": [
        {
          "output_type": "execute_result",
          "data": {
            "text/plain": [
              "'juan david ramirez esta caminando'"
            ],
            "application/vnd.google.colaboratory.intrinsic+json": {
              "type": "string"
            }
          },
          "metadata": {},
          "execution_count": 21
        }
      ]
    },
    {
      "cell_type": "code",
      "source": [
        "h.trabajo(3)"
      ],
      "metadata": {
        "colab": {
          "base_uri": "https://localhost:8080/",
          "height": 36
        },
        "id": "heX4ZNwlrr2j",
        "outputId": "6b2660af-a8d5-4c23-e140-25a701f9ce3c"
      },
      "execution_count": 22,
      "outputs": [
        {
          "output_type": "execute_result",
          "data": {
            "text/plain": [
              "'juan david ramirez inversor en bitcoin (pierde todo)'"
            ],
            "application/vnd.google.colaboratory.intrinsic+json": {
              "type": "string"
            }
          },
          "metadata": {},
          "execution_count": 22
        }
      ]
    },
    {
      "cell_type": "code",
      "source": [
        "class Sayayin:\n",
        "  def __init__(self,nombre,ki,color_piel,cabello,altura,color_ojos,brazos,piernas,sexo,peso,IQ,RH,belleza,colamono):\n",
        "    self.nombre=nombre\n",
        "    self.ki=ki\n",
        "    self.color_piel=color_piel\n",
        "    self.cabello=cabello\n",
        "    self.altura=altura\n",
        "    self.color_ojos=\"negro\"\n",
        "    self.brazos=brazos\n",
        "    self.piernas=piernas\n",
        "    self.peso=peso\n",
        "    self.sexo=sexo\n",
        "    self.IQ=IQ\n",
        "    self.RH=RH\n",
        "    self.belleza=belleza\n",
        "    self.colamono=True\n",
        "\n",
        "  def movilizarse(self,vel):\n",
        "    if vel==0:\n",
        "      return f\"{self.nombre} esta en estado de reposo\"\n",
        "    elif vel<1:\n",
        "      return f\"{self.nombre} esta gateando\"\n",
        "    elif vel<4:\n",
        "      return f\"{self.nombre} esta caminando descalso\"\n",
        "    elif vel<8:\n",
        "      return f\"{self.nombre} esta caminando\"\n",
        "    elif vel<10:\n",
        "      return f\"{self.nombre} esta corriendo descalso\"\n",
        "    elif vel<13:\n",
        "      return f\"{self.nombre} esta corriendo\"\n",
        "    elif vel<100:\n",
        "      return f\"{self.nombre} esta volando velocidad crusero\"\n",
        "    elif vel<12000:\n",
        "      return f\"{self.nombre} esta volando velocidades muy altas\"\n",
        "\n",
        "  def trabajo(self,trav):\n",
        "    if trav==0:\n",
        "      return f\"{self.nombre} trapito\"\n",
        "    elif trav==1:\n",
        "      return f\"{self.nombre} indijente\"\n",
        "    elif trav==2:\n",
        "      return f\"{self.nombre} mototaxista\"\n",
        "    elif trav==3:\n",
        "      return f\"{self.nombre} inversor en bitcoin (pierde todo)\"\n",
        "    elif trav==4:\n",
        "      return f\"{self.nombre} inversor en goarbit\"\n",
        "    elif trav==5:\n",
        "      return f\"{self.nombre} gota a gota\"\n",
        "    elif trav==6:\n",
        "      return f\"{self.nombre} desempleado\"\n",
        "\n",
        "  def luna(self,luna):\n",
        "    if luna and self.colamono:\n",
        "      print(self.nombre,\"se va a transformar en mono gigante\")\n",
        "    elif luna and self.colamono==False:\n",
        "      print(self.nombre,\"no se va a transformar en mono gigante\")\n",
        "    else:\n",
        "      print(self.nombre,\"no se va a transformar en mono gigante\")"
      ],
      "metadata": {
        "id": "65AHddVHsNGr"
      },
      "execution_count": 25,
      "outputs": []
    },
    {
      "cell_type": "code",
      "source": [
        "class Hibrido(Sayayin,Humano):\n",
        "  pass\n"
      ],
      "metadata": {
        "id": "-uZWOd3wubwS"
      },
      "execution_count": 26,
      "outputs": []
    },
    {
      "cell_type": "code",
      "source": [
        "gohan=Hibrido(\"el chamo,\")"
      ],
      "metadata": {
        "id": "Rqc0nPvKvcCs"
      },
      "execution_count": null,
      "outputs": []
    }
  ]
}