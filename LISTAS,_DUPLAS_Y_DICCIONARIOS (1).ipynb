{
  "nbformat": 4,
  "nbformat_minor": 0,
  "metadata": {
    "colab": {
      "provenance": []
    },
    "kernelspec": {
      "name": "python3",
      "display_name": "Python 3"
    },
    "language_info": {
      "name": "python"
    }
  },
  "cells": [
    {
      "cell_type": "markdown",
      "source": [
        "#SECUENCIA DE DATOS\n"
      ],
      "metadata": {
        "id": "SHcbrJhhNGOk"
      }
    },
    {
      "cell_type": "markdown",
      "source": [
        "##LISTAS\n",
        "También conocidas como vectores o arrays.\n",
        "Es una variable que, en lugar de contener un valor, contiene una secuencia ordenada de estos, a los que se puede acceder por su posición o por su índice.\n",
        "Se declaran indicando sus elementos, separados por comas, entre corchetes []"
      ],
      "metadata": {
        "id": "325LVBzsM0x7"
      }
    },
    {
      "cell_type": "code",
      "execution_count": null,
      "metadata": {
        "colab": {
          "base_uri": "https://localhost:8080/"
        },
        "id": "23GjaB68MkIG",
        "outputId": "6b23afe8-e1a9-4e47-b7df-9fc720143874"
      },
      "outputs": [
        {
          "output_type": "stream",
          "name": "stdout",
          "text": [
            "['primero', 'segundo', 'tercero', 'cuarto']\n"
          ]
        }
      ],
      "source": [
        "lista=[\"primero\",\"segundo\", \"tercero\", \"cuarto\"]\n",
        "print(lista)"
      ]
    },
    {
      "cell_type": "markdown",
      "source": [
        "###Accediendo a los elementos de la lista"
      ],
      "metadata": {
        "id": "yPn3XFg4PWpt"
      }
    },
    {
      "cell_type": "code",
      "source": [
        "#Accediendo a la lista por posición\n",
        "lista[0]"
      ],
      "metadata": {
        "colab": {
          "base_uri": "https://localhost:8080/",
          "height": 36
        },
        "id": "-63XOgdXOzdR",
        "outputId": "6582eaad-50c2-4e2f-df6a-2cdda1473366"
      },
      "execution_count": null,
      "outputs": [
        {
          "output_type": "execute_result",
          "data": {
            "text/plain": [
              "'primero'"
            ],
            "application/vnd.google.colaboratory.intrinsic+json": {
              "type": "string"
            }
          },
          "metadata": {},
          "execution_count": 9
        }
      ]
    },
    {
      "cell_type": "code",
      "source": [
        "#Accediendo a todos los elementos de la lista empleando el slicing\n",
        "lista[:]"
      ],
      "metadata": {
        "colab": {
          "base_uri": "https://localhost:8080/"
        },
        "id": "cadWYF2xSW8L",
        "outputId": "f030d106-caa8-47b4-b575-78c2be519180"
      },
      "execution_count": null,
      "outputs": [
        {
          "output_type": "execute_result",
          "data": {
            "text/plain": [
              "['primero', 'segundo', 'tercero', 'cuarto']"
            ]
          },
          "metadata": {},
          "execution_count": 10
        }
      ]
    },
    {
      "cell_type": "code",
      "source": [
        "#Accediendo a los dos primeros elementos de la lista\n",
        "lista[0:2]"
      ],
      "metadata": {
        "colab": {
          "base_uri": "https://localhost:8080/"
        },
        "id": "XsDQpQKISYiL",
        "outputId": "ea208fcc-8393-4b8e-cb0a-a7f1ff4c852a"
      },
      "execution_count": null,
      "outputs": [
        {
          "output_type": "execute_result",
          "data": {
            "text/plain": [
              "['primero', 'segundo']"
            ]
          },
          "metadata": {},
          "execution_count": 11
        }
      ]
    },
    {
      "cell_type": "code",
      "source": [
        "#Existe alguna otra manera de imprimir los dos primeros elementos de la lista? Coloque la línea de código que hace esto.\n",
        "print(lista)"
      ],
      "metadata": {
        "id": "miawsux8S7BD",
        "colab": {
          "base_uri": "https://localhost:8080/"
        },
        "outputId": "ac809a15-90fa-4465-a35d-7059818901f0"
      },
      "execution_count": null,
      "outputs": [
        {
          "output_type": "stream",
          "name": "stdout",
          "text": [
            "['primero', 'segundo', 'tercero', 'cuarto']\n"
          ]
        }
      ]
    },
    {
      "cell_type": "code",
      "source": [
        "#Accediendo a los dos últimos elementos de la lista\n",
        "lista[2:4]"
      ],
      "metadata": {
        "colab": {
          "base_uri": "https://localhost:8080/"
        },
        "id": "RNcXanPzTB7u",
        "outputId": "6caf1ccd-5b9b-41dd-dae4-8374ed0039ad"
      },
      "execution_count": null,
      "outputs": [
        {
          "output_type": "execute_result",
          "data": {
            "text/plain": [
              "['tercero', 'cuarto']"
            ]
          },
          "metadata": {},
          "execution_count": 13
        }
      ]
    },
    {
      "cell_type": "code",
      "source": [
        "#Qué pasará cuando se usa un índice negativo? Ejemplo: lista[-4], lista[-3]\n",
        "lista[-3]\n",
        "lista[-4]"
      ],
      "metadata": {
        "id": "_0cx4i7CVF_6",
        "colab": {
          "base_uri": "https://localhost:8080/",
          "height": 36
        },
        "outputId": "fe05115e-729d-4fda-b025-865b33ba7c4f"
      },
      "execution_count": null,
      "outputs": [
        {
          "output_type": "execute_result",
          "data": {
            "text/plain": [
              "'primero'"
            ],
            "application/vnd.google.colaboratory.intrinsic+json": {
              "type": "string"
            }
          },
          "metadata": {},
          "execution_count": 15
        }
      ]
    },
    {
      "cell_type": "code",
      "source": [
        "#Existe otra forma para acceder a los dos últimos elementos de la lista?. Coloque la línea de código que hace esto.\n",
        "lista[-2:4]"
      ],
      "metadata": {
        "id": "Eg2ZIr5DTnFJ",
        "colab": {
          "base_uri": "https://localhost:8080/"
        },
        "outputId": "edb705b4-e38a-44b7-f7b0-26fac743aaf1"
      },
      "execution_count": null,
      "outputs": [
        {
          "output_type": "stream",
          "name": "stdout",
          "text": [
            "['tercero'] ['primero', 'segundo', 'tercero', 'cuarto']\n"
          ]
        }
      ]
    },
    {
      "cell_type": "code",
      "source": [
        "#Cómo podría saberse la posición de la lista que ocupa un elemento? \n",
        "#Escriba el código que permita ingresar un elemento de la lista, e imprima la posición del elemento de la lista\n",
        "a=input(\"seleccione de cual valor quiere ver su posicion; primero,segundo,tercero,cuarto\")\n",
        "lista.index(a)\n",
        "\n",
        "\n"
      ],
      "metadata": {
        "id": "AFYUJpJCQG9p",
        "colab": {
          "base_uri": "https://localhost:8080/"
        },
        "outputId": "65dfaf5d-a824-4fcc-ca7f-1fdb00f5bf14"
      },
      "execution_count": null,
      "outputs": [
        {
          "name": "stdout",
          "output_type": "stream",
          "text": [
            "seleccione de cual valor quiere ver su posicion; primero,segundo,tercero,cuartoprimero\n"
          ]
        },
        {
          "output_type": "execute_result",
          "data": {
            "text/plain": [
              "0"
            ]
          },
          "metadata": {},
          "execution_count": 53
        }
      ]
    },
    {
      "cell_type": "markdown",
      "source": [
        "###Operaciones con las listas"
      ],
      "metadata": {
        "id": "OPiv0fe4R8__"
      }
    },
    {
      "cell_type": "code",
      "source": [
        "#Crear una lista vacía\n",
        "ejemplo=[]"
      ],
      "metadata": {
        "id": "sgr461D-SAqe"
      },
      "execution_count": null,
      "outputs": []
    },
    {
      "cell_type": "code",
      "source": [
        "#Cómo se podría crear una matriz? Ingrese el código que permita generar una matriz 3x2, siendo la primera fila \"Nombre\", \"Peso\", \"Altura\"\n",
        "#y diligencie la segunda fila con números\n",
        "#Llame a esa matriz \n",
        "#Debe imprimir \n",
        "#Nombre  Peso[kg] Altura[m]\n",
        "#\"Sofía\"    57      1.65 \n",
        "calculo_IMC=[[\"Nombre\",\"Peso[kg]\",\"Altura[m]\",\"decripcion\"],\n",
        "            [\"Sofía\",\"    57\",\"    1.65\",\"        normal\"]]\n",
        "print(f\"{calculo_IMC[0]}\\n{calculo_IMC[1]}\")"
      ],
      "metadata": {
        "id": "NnNEsFRbaUul",
        "colab": {
          "base_uri": "https://localhost:8080/"
        },
        "outputId": "5992a427-b8a2-4878-bb1c-7d3f02fef637"
      },
      "execution_count": null,
      "outputs": [
        {
          "output_type": "stream",
          "name": "stdout",
          "text": [
            "['Nombre', 'Peso[kg]', 'Altura[m]', 'decripcion']\n",
            "['Sofía', '    57', '    1.65', '        normal']\n"
          ]
        }
      ]
    },
    {
      "cell_type": "code",
      "source": [
        "#Genere una cuarta columna para la matriz IMC, que tenga como nombre IMC y calcule el índice de masa corporal. Esto es:\n",
        "#Nombre  Peso[kg] Altura[m]  IMC\n",
        "#\"Sofía\"    57      1.65     (agrege aquí el resultado del cálculo)\n",
        "calculo_IMC=[[\"Nombre\",\"Peso[kg]\",\"Altura[m]\",\"IMC\",\"Descripcion\"],\n",
        "            [\"Sofía\",57,1.65,\"normal\"]]\n",
        "IMC=((calculo_IMC[1][1])/(calculo_IMC[1][2])**2)\n",
        "\n",
        "print(f\"{calculo_IMC[0]}\\n{calculo_IMC[1],IMC}\")\n",
        "\n"
      ],
      "metadata": {
        "id": "UZ_ueaXJdJsT",
        "colab": {
          "base_uri": "https://localhost:8080/"
        },
        "outputId": "4ca9558b-1d24-4584-d07e-680404b9a99e"
      },
      "execution_count": null,
      "outputs": [
        {
          "output_type": "stream",
          "name": "stdout",
          "text": [
            "['Nombre', 'Peso[kg]', 'Altura[m]', 'IMC', 'Descripcion']\n",
            "(['Sofía', 57, 1.65, 'normal'], 20.936639118457304)\n"
          ]
        }
      ]
    },
    {
      "cell_type": "code",
      "source": [
        "#Genere una quinta columna en la matriz calculo_IMC que emita una descripción obtenida del IMC. Esto es:\n",
        "#Nombre  Peso[kg] Altura[m]  IMC        Descripción\n",
        "#\"Sofía\"    57      1.65     (calculo)  (Dependiendo del IMC debe registrar peso normal, sobrepeso, obesidad tipo I, obesidad tipo II... etc.\n",
        "calculo_IMC=[[\"Nombre\",\"Peso[kg]\",\"Altura[m]\",\"IMC\",\"decripcion\"],\n",
        "            [\"Sofía\",57,1.65,]]\n",
        "IMC=((calculo_IMC[1][1])/(calculo_IMC[1][2])**2)\n",
        "if IMC>18.5:\n",
        "  print(f\"{calculo_IMC[0]}\\n{calculo_IMC[1],IMC}\",\"normal\")\n",
        "if IMC>24.9:\n",
        "  print(f\"{calculo_IMC[0]}\\n{calculo_IMC[1],IMC}\",\"peso superior\")\n",
        "if IMC>29.9:\n",
        "  print(f\"{calculo_IMC[0]}\\n{calculo_IMC[1],IMC}\",\"obecidad\")\n",
        "\n"
      ],
      "metadata": {
        "id": "cgQqg0YJffSH",
        "colab": {
          "base_uri": "https://localhost:8080/"
        },
        "outputId": "dae50936-b7bf-4422-8b58-c8c15c189069"
      },
      "execution_count": 126,
      "outputs": [
        {
          "output_type": "stream",
          "name": "stdout",
          "text": [
            "['Nombre', 'Peso[kg]', 'Altura[m]', 'IMC', 'decripcion']\n",
            "(['Sofía', 57, 1.65], 20.936639118457304) normal\n"
          ]
        }
      ]
    },
    {
      "cell_type": "code",
      "source": [
        "#Conocer el tamaño del vector\n",
        "len(ejemplo)"
      ],
      "metadata": {
        "colab": {
          "base_uri": "https://localhost:8080/"
        },
        "id": "KZ5QnAzbaH_v",
        "outputId": "e6d57ab7-700e-4ffc-f755-3ef715b4922e"
      },
      "execution_count": null,
      "outputs": [
        {
          "output_type": "execute_result",
          "data": {
            "text/plain": [
              "4"
            ]
          },
          "metadata": {},
          "execution_count": 28
        }
      ]
    },
    {
      "cell_type": "code",
      "source": [
        "#Llenar una lista vacía\n",
        "ejemplo.append(\"Hola\")"
      ],
      "metadata": {
        "id": "JsgmYIkuSVFj"
      },
      "execution_count": null,
      "outputs": []
    },
    {
      "cell_type": "code",
      "source": [
        "#Una lista puede tener diferente tipo de datos!!\n",
        "ejemplo=[\"banana\",\"sandía\", 4, 5, False]\n",
        "ejemplo\n",
        "#Qué pasó con el elemento \"Hola\"?\n",
        "#Se remplazo con el ultimo ejemplo"
      ],
      "metadata": {
        "colab": {
          "base_uri": "https://localhost:8080/"
        },
        "id": "q6LTGURtY_RM",
        "outputId": "49b377b6-a0d0-4ecd-8dc7-620c2319f0cd"
      },
      "execution_count": null,
      "outputs": [
        {
          "output_type": "execute_result",
          "data": {
            "text/plain": [
              "['banana', 'sandía', 4, 5, False]"
            ]
          },
          "metadata": {},
          "execution_count": 34
        }
      ]
    },
    {
      "cell_type": "code",
      "source": [
        "#Eliminar un elemento de la lista\n",
        "ejemplo.remove(4)\n",
        "ejemplo"
      ],
      "metadata": {
        "colab": {
          "base_uri": "https://localhost:8080/"
        },
        "id": "p_o0X4fKZw0k",
        "outputId": "845f0f99-44ac-49f9-df9d-b62a4bcb49de"
      },
      "execution_count": null,
      "outputs": [
        {
          "output_type": "execute_result",
          "data": {
            "text/plain": [
              "['banana', 'sandía', 5, False]"
            ]
          },
          "metadata": {},
          "execution_count": 35
        }
      ]
    },
    {
      "cell_type": "code",
      "source": [
        "#Podría explicar el error generado?\n",
        "ejemplo.remove(4)\n",
        "#x no esta en la lista"
      ],
      "metadata": {
        "colab": {
          "base_uri": "https://localhost:8080/",
          "height": 182
        },
        "id": "ODz7MJvbbh8e",
        "outputId": "623f47b8-9c66-4d56-afe2-c830b0c95c66"
      },
      "execution_count": 127,
      "outputs": [
        {
          "output_type": "error",
          "ename": "ValueError",
          "evalue": "ignored",
          "traceback": [
            "\u001b[0;31m---------------------------------------------------------------------------\u001b[0m",
            "\u001b[0;31mValueError\u001b[0m                                Traceback (most recent call last)",
            "\u001b[0;32m<ipython-input-127-cc5e3be70b57>\u001b[0m in \u001b[0;36m<module>\u001b[0;34m\u001b[0m\n\u001b[1;32m      1\u001b[0m \u001b[0;31m#Podría explicar el error generado?\u001b[0m\u001b[0;34m\u001b[0m\u001b[0;34m\u001b[0m\u001b[0;34m\u001b[0m\u001b[0m\n\u001b[0;32m----> 2\u001b[0;31m \u001b[0mejemplo\u001b[0m\u001b[0;34m.\u001b[0m\u001b[0mremove\u001b[0m\u001b[0;34m(\u001b[0m\u001b[0;36m4\u001b[0m\u001b[0;34m)\u001b[0m\u001b[0;34m\u001b[0m\u001b[0;34m\u001b[0m\u001b[0m\n\u001b[0m",
            "\u001b[0;31mValueError\u001b[0m: list.remove(x): x not in list"
          ]
        }
      ]
    },
    {
      "cell_type": "code",
      "source": [
        "#Podría explicar el resultado de este método? \n",
        "del ejemplo[2]\n",
        "ejemplo"
      ],
      "metadata": {
        "colab": {
          "base_uri": "https://localhost:8080/"
        },
        "id": "lhRUkQOEcWHu",
        "outputId": "ad0e0b81-cdb8-49ab-b45e-24451b1213d9"
      },
      "execution_count": null,
      "outputs": [
        {
          "output_type": "execute_result",
          "data": {
            "text/plain": [
              "['banana', 'sandía']"
            ]
          },
          "metadata": {},
          "execution_count": 38
        }
      ]
    },
    {
      "cell_type": "markdown",
      "source": [
        "### EJERCICIO PARA ELIMINAR UN QUEST OBLIGATORIO ☝\n",
        "\n",
        "![Texto alternativo](https://cdn.memegenerator.es/imagenes/memes/full/28/50/28507442.jpg)\n",
        "\n",
        "Realiza el ejercicio propuesto de forma correcta antes de que acabe el tiempo, y hazte acreedor@ de eliminar un quest obligatorio ✨"
      ],
      "metadata": {
        "id": "hmS_3bTvgCph"
      }
    },
    {
      "cell_type": "code",
      "source": [
        "# Revise la página https://www.researchgate.net/publication/273298847_Piedra_Papel_Tijera_y_sus_generalizaciones\n",
        "#Programe Piedra, papel, tijera, spock, lagarto, Papa y heavy usando arreglos.\n",
        "\n",
        "import random\n",
        "Name=input(\"Ingrese un nombre: \")\n",
        "opc=[\"\",\"Lagarto\",\"papa\",\"tijera\",\"papel\",\"heavy\",\"spock\",\"Piedra\"]\n",
        "a=\"s\"\n",
        "E=0\n",
        "J=0\n",
        "P=0\n",
        "while a[0:1]==\"s\":\n",
        "  j=int(input(\"\\n1.Lagarto\\n2.Papa\\n3.Tijera\\n4.Papel\\n5.Heavy\\n6.Spock\\n7.Piedra\"))\n",
        "  if j>7 or j<1:\n",
        "     j=int(input(\"Esta opción no esta disponible, escoja entre 1 y 5, ¡subnormal!: \"))\n",
        "  pc=random.randint(1,7)\n",
        "  print(f\"La pc jugó {opc[pc]}\\n{Name} jugó {opc[j]}\")\n",
        "  if j==pc:\n",
        "    print(\"Empate\")\n",
        "    E=E+1\n",
        "  elif j==1:\n",
        "    if pc==j+1 or pc==j+3 or pc==j+5:\n",
        "     print(f\"{Name} gana\")\n",
        "     J=J+1\n",
        "    else:\n",
        "        print(\"Pc gana\")\n",
        "        P=P+1\n",
        "  elif j==2 or j==3:\n",
        "    if pc==j+1 or pc==j+2 or pc==j-2:\n",
        "     print(f\"{Name} gana\")\n",
        "     J=J+1\n",
        "    else:\n",
        "        print(\"Pc gana\")\n",
        "        P=P+1\n",
        "  elif j==4:\n",
        "    if pc==j+1 or pc==j+2 or pc==j+3: \n",
        "      J=J+1 \n",
        "      print(f\"{Name} gana\")\n",
        "    else:\n",
        "        print(\"Pc gana\")\n",
        "        P=P+1\n",
        "  elif j==6 or j==5:\n",
        "    if pc==j+1 or pc==j-4 or pc==j-3:\n",
        "      J=J+1 \n",
        "      print(f\"{Name} gana\")\n",
        "    else:\n",
        "        print(\"Pc gana\")\n",
        "        P=P+1\n",
        "  elif j==7:\n",
        "    if pc==j-2 or pc==j-4 or pc==j-6:\n",
        "      J=J+1 \n",
        "      print(f\"{Name} gana\")\n",
        "    else:\n",
        "        print(\"Pc gana\")\n",
        "        P=P+1\n",
        "  else:\n",
        "    print(\"Pc gana\")\n",
        "    P=P+1\n",
        "  a=input(\"¿Otra ronda?: \")\n",
        "  a=a.lower()\n",
        "print(f\"RESULTADOS DE {Name}\\nEmpates: {E}\\nDerrotas: {P}\\nVictorias: {J}\")"
      ],
      "metadata": {
        "id": "p0SGwGpNgBaz",
        "colab": {
          "base_uri": "https://localhost:8080/"
        },
        "outputId": "719c14cc-c19d-4f00-bc11-7d552e710543"
      },
      "execution_count": null,
      "outputs": [
        {
          "output_type": "stream",
          "name": "stdout",
          "text": [
            "Ingrese un nombre: juan\n",
            "\n",
            "1.Lagarto\n",
            "2.Papa\n",
            "3.Tijera\n",
            "4.Papel\n",
            "5.Heavy\n",
            "6.Spock\n",
            "7.Piedra7\n",
            "La pc jugó heavy\n",
            "juan jugó Piedra\n",
            "juan gana\n"
          ]
        }
      ]
    }
  ]
}