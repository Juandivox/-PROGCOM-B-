{
  "nbformat": 4,
  "nbformat_minor": 0,
  "metadata": {
    "colab": {
      "provenance": []
    },
    "kernelspec": {
      "name": "python3",
      "display_name": "Python 3"
    },
    "language_info": {
      "name": "python"
    }
  },
  "cells": [
    {
      "cell_type": "code",
      "execution_count": null,
      "metadata": {
        "colab": {
          "base_uri": "https://localhost:8080/",
          "height": 356
        },
        "id": "-vn2BKAb2un5",
        "outputId": "a9e52078-27aa-4f6a-facf-2bd9e0470911"
      },
      "outputs": [
        {
          "name": "stdout",
          "output_type": "stream",
          "text": [
            "Ingrese un nombre: yo\n",
            "1.Tijeras\n",
            "2.Papel\n",
            "3.Piedra\n",
            "4.Lagarto\n",
            "5.Spock\n",
            "2\n"
          ]
        },
        {
          "output_type": "error",
          "ename": "NameError",
          "evalue": "ignored",
          "traceback": [
            "\u001b[0;31m---------------------------------------------------------------------------\u001b[0m",
            "\u001b[0;31mNameError\u001b[0m                                 Traceback (most recent call last)",
            "\u001b[0;32m<ipython-input-1-9a8c10634cc9>\u001b[0m in \u001b[0;36m<module>\u001b[0;34m\u001b[0m\n\u001b[1;32m     11\u001b[0m      \u001b[0mj\u001b[0m\u001b[0;34m=\u001b[0m\u001b[0mint\u001b[0m\u001b[0;34m(\u001b[0m\u001b[0minput\u001b[0m\u001b[0;34m(\u001b[0m\u001b[0;34m\"Esta opción no esta disponible, escoja entre 1 y 5, ¡subnormal!: \"\u001b[0m\u001b[0;34m)\u001b[0m\u001b[0;34m)\u001b[0m\u001b[0;34m\u001b[0m\u001b[0;34m\u001b[0m\u001b[0m\n\u001b[1;32m     12\u001b[0m   \u001b[0mpc\u001b[0m\u001b[0;34m=\u001b[0m\u001b[0mrandom\u001b[0m\u001b[0;34m.\u001b[0m\u001b[0mrandint\u001b[0m\u001b[0;34m(\u001b[0m\u001b[0;36m1\u001b[0m\u001b[0;34m,\u001b[0m\u001b[0;36m5\u001b[0m\u001b[0;34m)\u001b[0m\u001b[0;34m\u001b[0m\u001b[0;34m\u001b[0m\u001b[0m\n\u001b[0;32m---> 13\u001b[0;31m   \u001b[0mprint\u001b[0m\u001b[0;34m(\u001b[0m\u001b[0;34mf\"La pc jugó {opc[pc]}\\n{Name} jugó {opc[j]}\"\u001b[0m\u001b[0;34m)\u001b[0m\u001b[0;34m\u001b[0m\u001b[0;34m\u001b[0m\u001b[0m\n\u001b[0m\u001b[1;32m     14\u001b[0m   \u001b[0;32mif\u001b[0m \u001b[0mj\u001b[0m\u001b[0;34m==\u001b[0m\u001b[0mpc\u001b[0m\u001b[0;34m:\u001b[0m\u001b[0;34m\u001b[0m\u001b[0;34m\u001b[0m\u001b[0m\n\u001b[1;32m     15\u001b[0m     \u001b[0mprint\u001b[0m\u001b[0;34m(\u001b[0m\u001b[0;34m\"Empate\"\u001b[0m\u001b[0;34m)\u001b[0m\u001b[0;34m\u001b[0m\u001b[0;34m\u001b[0m\u001b[0m\n",
            "\u001b[0;31mNameError\u001b[0m: name 'Name' is not defined"
          ]
        }
      ],
      "source": [
        "import random\n",
        "Name=input(\"Ingrese un nombre: \")\n",
        "opc=[\"\",\"Tijeras\",\"Papel\",\"Piedra\",\"Lagarto\",\"Spock\"]\n",
        "a=\"s\"\n",
        "E=0\n",
        "J=0\n",
        "P=0\n",
        "while a[0:1]==\"s\":\n",
        "  j=int(input(\"1.Tijeras\\n2.Papel\\n3.Piedra\\n4.Lagarto\\n5.Spock\\n\"))\n",
        "  if j>5 or j<1:\n",
        "     j=int(input(\"Esta opción no esta disponible, escoja entre 1 y 5, ¡subnormal!: \"))\n",
        "  pc=random.randint(1,5)\n",
        "  print(f\"La pc jugó {opc[pc]}\\n{Name} jugó {opc[j]}\")\n",
        "  if j==pc:\n",
        "    print(\"Empate\")\n",
        "    E=E+1\n",
        "  elif j==4 or j==3:\n",
        "    if pc==j+1 or pc==j-2:\n",
        "     print(f\"{Name} gana\")\n",
        "     J=J+1\n",
        "    else:\n",
        "        print(\"Pc gana\")\n",
        "        P=P+1\n",
        "  elif j<3:\n",
        "    if pc==j+1 or pc==j+3: \n",
        "      J=J+1 \n",
        "      print(f\"{Name} gana\")\n",
        "    else:\n",
        "        print(\"Pc gana\")\n",
        "        P=P+1\n",
        "  elif j==5:\n",
        "    if pc==j-4 or pc==j-2:\n",
        "      J=J+1 \n",
        "      print(f\"{Name} gana\")\n",
        "    else:\n",
        "        print(\"Pc gana\")\n",
        "        P=P+1\n",
        "  else:\n",
        "    print(\"Pc gana\")\n",
        "    P=P+1\n",
        "  a=input(\"¿Otra ronda?: \")\n",
        "  a=a.lower()\n",
        "print(f\"RESULTADOS DE {Name}\\nEmpates: {E}\\nDerrotas: {P}\\nVictorias: {J}\")"
      ]
    },
    {
      "cell_type": "code",
      "source": [],
      "metadata": {
        "id": "SHpGQ4wyTQmm"
      },
      "execution_count": null,
      "outputs": []
    },
    {
      "cell_type": "code",
      "source": [],
      "metadata": {
        "id": "QRA_7TsqAr0Y"
      },
      "execution_count": null,
      "outputs": []
    },
    {
      "cell_type": "code",
      "source": [
        "  print(,\"La pc jugó ,\",opc[pc]\"\",\"\\n\"Name\", jugó ,\"opc[j]\",\")"
      ],
      "metadata": {
        "id": "LjJfwflTAr5B"
      },
      "execution_count": null,
      "outputs": []
    }
  ]
}