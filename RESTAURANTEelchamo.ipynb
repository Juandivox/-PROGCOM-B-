{
  "nbformat": 4,
  "nbformat_minor": 0,
  "metadata": {
    "colab": {
      "provenance": []
    },
    "kernelspec": {
      "name": "python3",
      "display_name": "Python 3"
    },
    "language_info": {
      "name": "python"
    }
  },
  "cells": [
    {
      "cell_type": "code",
      "execution_count": 2,
      "metadata": {
        "colab": {
          "base_uri": "https://localhost:8080/"
        },
        "id": "uDdKR44_RKoU",
        "outputId": "d59eb834-8a8c-4ab8-92fc-246b14ceb311"
      },
      "outputs": [
        {
          "output_type": "stream",
          "name": "stdout",
          "text": [
            "\n",
            "          Productos  Precio\n",
            "0          Combo 1   20000\n",
            "1          Combo 2   25000\n",
            "2          Combo 3   18000\n",
            "3          Combo 4   24500\n",
            "4            Papas    3000\n",
            "5  Jugos naturales    7000\n",
            "6          Cerveza    3500\n",
            "7             Agua    4000\n",
            "8          Gaseosa    2500\n",
            "\n",
            "Escriba lo que quiere ordenar: Combo 1\n",
            "¿Que cantidad?: 1\n",
            "¿Desea ordenar algo mas? Si o No: si\n",
            "Factura\n",
            "          Productos  Precio  Cantidad\n",
            "0          Combo 1   20000         1\n",
            "1          Combo 2   25000         0\n",
            "2          Combo 3   18000         0\n",
            "3          Combo 4   24500         0\n",
            "4            Papas    3000         0\n",
            "5  Jugos naturales    7000         0\n",
            "6          Cerveza    3500         0\n",
            "7             Agua    4000         0\n",
            "8          Gaseosa    2500         0\n",
            "9            Total   20000         0\n",
            "\n",
            "¿Hay mas clientes? Si o No: no\n",
            "\n",
            "Ganancias del día\n",
            "          Productos  Precio  Cantidad\n",
            "0          Combo 1   20000         1\n",
            "1          Combo 2   25000         0\n",
            "2          Combo 3   18000         0\n",
            "3          Combo 4   24500         0\n",
            "4            Papas    3000         0\n",
            "5  Jugos naturales    7000         0\n",
            "6          Cerveza    3500         0\n",
            "7             Agua    4000         0\n",
            "8          Gaseosa    2500         0\n",
            "9            Total   20000         0\n",
            "gracias por comprar con nostros\n"
          ]
        }
      ],
      "source": [
        "import pandas as pd\n",
        "inv={\"Productos\":[\"Combo 1\",\"Combo 2\",\"Combo 3\",\"Combo 4\",\"Papas\",\"Jugos naturales\",\"Cerveza\",\"Agua\",\"Gaseosa\"],\"Precio\":[20000,25000,18000,24500,3000,7000,3500,4000,2500]}\n",
        "gan={\"Productos\":[\"Combo 1\",\"Combo 2\",\"Combo 3\",\"Combo 4\",\"Papas\",\"Jugos naturales\",\"Cerveza\",\"Agua\",\"Gaseosa\",\"Total\"],\"Precio\":[20000,25000,18000,24500,3000,7000,3500,4000,2500,0],\"Cantidad\":[0,0,0,0,0,0,0,0,0,0]}\n",
        "fact={\"Productos\":[\"Combo 1\",\"Combo 2\",\"Combo 3\",\"Combo 4\",\"Papas\",\"Jugos naturales\",\"Cerveza\",\"Agua\",\"Gaseosa\",\"Total\"],\"Precio\":[20000,25000,18000,24500,3000,7000,3500,4000,2500,0],\"Cantidad\":[0,0,0,0,0,0,0,0,0,0]}\n",
        "dia=\"si\"\n",
        "cliente=\"si\"\n",
        "print(\"Bienvenido a comidas rapidas el chamo puedes ordenar algo\")\n",
        "while dia==\"si\":\n",
        "  while cliente==\"si\":\n",
        "   print(\"\\n\",pd.DataFrame.from_dict(inv))\n",
        "   o=input(\"\\nEscriba lo que quiere ordenar: \")\n",
        "   i=int(input(\"¿Que cantidad?: \"))\n",
        "   a=inv[\"Productos\"].index(o)\n",
        "   fact[\"Cantidad\"][a]=i\n",
        "   fact[\"Precio\"][9]=fact[\"Precio\"][9]+inv[\"Precio\"][a]*i\n",
        "   cliente=input(\"¿Desea ordenar algo mas? Si o No: \")\n",
        "   cliente=cliente.lower\n",
        "  print(\"Factura\\n\",pd.DataFrame.from_dict(fact))\n",
        "  dia=str(input(\"\\n¿Hay mas clientes? Si o No: \"))\n",
        "  dia=dia.lower()\n",
        "  if dia==\"si\":\n",
        "   cliente=\"si\"\n",
        "  gan[\"Precio\"][9]=gan[\"Precio\"][9]+fact[\"Precio\"][9]\n",
        "  fact[\"Precio\"][9]=0\n",
        "  for z in range(0,10):\n",
        "   gan[\"Cantidad\"][z]=gan[\"Cantidad\"][z]+fact[\"Cantidad\"][z]\n",
        "   fact[\"Cantidad\"][z]=0\n",
        "print(\"\\nGanancias del día\\n\",pd.DataFrame.from_dict(gan))\n",
        "print(\"gracias por comprar con nostros\")"
      ]
    }
  ]
}