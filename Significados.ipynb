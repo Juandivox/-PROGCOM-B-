{
  "nbformat": 4,
  "nbformat_minor": 0,
  "metadata": {
    "colab": {
      "provenance": []
    },
    "kernelspec": {
      "name": "python3",
      "display_name": "Python 3"
    },
    "language_info": {
      "name": "python"
    }
  },
  "cells": [
    {
      "cell_type": "code",
      "execution_count": 1,
      "metadata": {
        "colab": {
          "base_uri": "https://localhost:8080/"
        },
        "id": "GK4L3rhSXSZw",
        "outputId": "4b414aac-b897-4357-e780-4fb5aa035b43"
      },
      "outputs": [
        {
          "output_type": "stream",
          "name": "stdout",
          "text": [
            "False True False\n",
            "1\n"
          ]
        }
      ],
      "source": [
        "\n",
        "#False: false tiene el valor falso (numéricamente es cero)\n",
        "x=False\n",
        "#True:true tiene el valor cierto (numéricamente es uno)\n",
        "y=True\n",
        "\n",
        "z= True and False \n",
        "h= True or False \n",
        "j= not True\n",
        "\n",
        "print(z,h,j)\n",
        "print(z+h+j)"
      ]
    },
    {
      "cell_type": "code",
      "source": [
        "#None: representa la ausencia de un valor\n",
        "milista =[None,4,3,None,None,8,None,9]\n",
        "print(\"Mi lista es:\" + str(milista))\n",
        "##por esto represento la ausencia de un valor\n",
        "rta=[i for i in milista if i]\n",
        "print(\"Lista después de eliminar los valores:\" + str(rta))"
      ],
      "metadata": {
        "colab": {
          "base_uri": "https://localhost:8080/"
        },
        "id": "JBO4U7YyXlKM",
        "outputId": "955346ef-f6df-4988-e6ee-828206af8bf8"
      },
      "execution_count": 3,
      "outputs": [
        {
          "output_type": "stream",
          "name": "stdout",
          "text": [
            "Mi lista es:[None, 4, 3, None, None, 8, None, 9]\n",
            "Lista después de eliminar los valores:[4, 3, 8, 9]\n"
          ]
        }
      ]
    },
    {
      "cell_type": "code",
      "source": [
        "#and: asocia dos términos y busca un registro coincidente\n",
        "x=8\n",
        "y=9\n",
        "if (x+y and y+x)==17:\n",
        "  print(\"Si\")\n",
        "else:\n",
        "  print(\"So\")"
      ],
      "metadata": {
        "colab": {
          "base_uri": "https://localhost:8080/"
        },
        "id": "EI5AcyG-Xm4L",
        "outputId": "159e92f2-7596-44eb-cabc-0b05c7e3c1f8"
      },
      "execution_count": 2,
      "outputs": [
        {
          "output_type": "stream",
          "name": "stdout",
          "text": [
            "Si\n"
          ]
        }
      ]
    },
    {
      "cell_type": "code",
      "source": [
        "#as: Para asignarle otro nombre a una funcion o colocar alias\n",
        "import calendar as c\n",
        "\n",
        "print(c.month_name[1])"
      ],
      "metadata": {
        "colab": {
          "base_uri": "https://localhost:8080/"
        },
        "id": "lY4Ezx9lXoYT",
        "outputId": "f36e80e2-bd0b-443b-9ff6-c64e8e85608b"
      },
      "execution_count": 14,
      "outputs": [
        {
          "output_type": "stream",
          "name": "stdout",
          "text": [
            "January\n"
          ]
        }
      ]
    },
    {
      "cell_type": "code",
      "source": [
        "#assert: El uso de assert en Python nos permite realizar comprobaciones. \n",
        "#Si la expresión contenida dentro del mismo es False, se lanzará una excepción, concretamente AssertionError.\n",
        "assert(1+1==2)\n"
      ],
      "metadata": {
        "id": "aSTVi69ZXqJz"
      },
      "execution_count": 4,
      "outputs": []
    },
    {
      "cell_type": "code",
      "source": [
        "#break: la instrucción break le proporciona la oportunidad de cerrar un bucle cuando se activa una condición externa.\n",
        "for i in range(5):\n",
        "    print(i)\n",
        "    break"
      ],
      "metadata": {
        "colab": {
          "base_uri": "https://localhost:8080/"
        },
        "id": "P8tDM3noXsPL",
        "outputId": "55fa6282-3550-4767-af05-9e6dd618c2ed"
      },
      "execution_count": null,
      "outputs": [
        {
          "output_type": "stream",
          "name": "stdout",
          "text": [
            "0\n"
          ]
        }
      ]
    },
    {
      "cell_type": "code",
      "source": [
        "#class: proveen todas las características normales de la Programación Orientada a Objetos\n",
        "class Alumno:\n",
        "\n",
        "    def __init__(self, nombre):\n",
        "        self.nombre = nombre\n",
        "\n",
        "    def saludar(self):\n",
        "        \"\"\"Imprime un saludo en pantalla.\"\"\"\n",
        "        print(f\"¡Hola, {self.nombre}!\")\n",
        "\n",
        "alumno = Alumno(\"Juancho\")\n",
        "alumno.saludar()"
      ],
      "metadata": {
        "colab": {
          "base_uri": "https://localhost:8080/"
        },
        "id": "tpDAif7pXth7",
        "outputId": "511cd8e9-0d72-491e-aefb-56d3859ce806"
      },
      "execution_count": null,
      "outputs": [
        {
          "output_type": "stream",
          "name": "stdout",
          "text": [
            "¡Hola, Pablo!\n"
          ]
        }
      ]
    },
    {
      "cell_type": "code",
      "source": [
        "\n",
        "#continue: da la opción de omitir la parte de un bucle en la que se activa una condición externa, pero continuar para completar el resto del bucle.\n",
        "number = 0\n",
        "\n",
        "for number in range(10):\n",
        "    if number == 5:\n",
        "        continue    \n",
        "\n",
        "    print('Number is ' + str(number))\n",
        "\n",
        "print('Out of loop')"
      ],
      "metadata": {
        "colab": {
          "base_uri": "https://localhost:8080/"
        },
        "id": "LfRK76wsXu1j",
        "outputId": "f861e197-871c-48c1-8c2d-b5bf2672521d"
      },
      "execution_count": null,
      "outputs": [
        {
          "output_type": "stream",
          "name": "stdout",
          "text": [
            "Number is 0\n",
            "Number is 1\n",
            "Number is 2\n",
            "Number is 3\n",
            "Number is 4\n",
            "Number is 6\n",
            "Number is 7\n",
            "Number is 8\n",
            "Number is 9\n",
            "Out of loop\n"
          ]
        }
      ]
    },
    {
      "cell_type": "code",
      "source": [
        "#def: Sirve para definir una funcion\n",
        "def Elevar_2(x):\n",
        "  return x*x\n",
        "x=int(input(\"Escriba un numero: \")) \n",
        "print(Elevar_2(x))"
      ],
      "metadata": {
        "colab": {
          "base_uri": "https://localhost:8080/"
        },
        "id": "jJjm8qSDXwLT",
        "outputId": "06c6f2d9-1d7d-4e6e-cd55-26d0f9b321f9"
      },
      "execution_count": 5,
      "outputs": [
        {
          "output_type": "stream",
          "name": "stdout",
          "text": [
            "Escriba un numero: 2\n",
            "4\n"
          ]
        }
      ]
    },
    {
      "cell_type": "code",
      "source": [
        "#elif:podría traducirse como Else If y se utiliza para enlazar varios else if sin aumentar las tabulaciones\n",
        "a = 2 + 3\n",
        "if a == 4: #condicion si a es exactamente cuatro, entonces(:)\n",
        "    print (\"A es igual a cuatro\") # Imprimir\n",
        "elif a == 5:\n",
        "    print (\"A es igual a cinco\")\n",
        "elif a == 6:\n",
        "    print (\"A es igual a seis\")\n",
        "else:\n",
        "    print (\"No se cumple la condición\")"
      ],
      "metadata": {
        "colab": {
          "base_uri": "https://localhost:8080/"
        },
        "id": "e5qaS09aXxmL",
        "outputId": "1fb4e544-a09b-45cd-aa72-a21d42986c98"
      },
      "execution_count": null,
      "outputs": [
        {
          "output_type": "stream",
          "name": "stdout",
          "text": [
            "A es igual a cinco\n"
          ]
        }
      ]
    },
    {
      "cell_type": "code",
      "source": [
        "#else:normalmente se encuentra como escape a un if y debajo de este y sirve como por si no se cumple el si del inicio\n",
        "a = 2 + 3\n",
        "if a == 4: \n",
        "    print (\"A es igual a cuatro\") # Imprimir\n",
        "else:\n",
        "    print (\"No se cumple la condicion\")"
      ],
      "metadata": {
        "colab": {
          "base_uri": "https://localhost:8080/"
        },
        "id": "EZ073CVhXzgD",
        "outputId": "53ea8485-fb68-45a3-8ee8-68779da6562b"
      },
      "execution_count": null,
      "outputs": [
        {
          "output_type": "stream",
          "name": "stdout",
          "text": [
            "No se cumple la condicion\n"
          ]
        }
      ]
    },
    {
      "cell_type": "code",
      "source": [
        "#if: es una condicion\n",
        "a = 2 + 2\n",
        "if a == 4: \n",
        "    print (\"A es igual a cuatro\")"
      ],
      "metadata": {
        "colab": {
          "base_uri": "https://localhost:8080/"
        },
        "id": "55IcQDFTX0rD",
        "outputId": "f3c5b66d-c7c7-4cf0-a70a-73cf026c81f1"
      },
      "execution_count": null,
      "outputs": [
        {
          "output_type": "stream",
          "name": "stdout",
          "text": [
            "A es igual a cuatro\n"
          ]
        }
      ]
    },
    {
      "cell_type": "code",
      "source": [
        "#except: El bloque except se ejecutará cuando el bloque try falle debido a un error. \n",
        "try:\n",
        "    d = 2 + \"Hola\" \n",
        "except ZeroDivisionError:\n",
        "    print(\"No se puede dividir entre cero!\")\n",
        "except TypeError:\n",
        "    print(\"Problema de tipos!\")"
      ],
      "metadata": {
        "colab": {
          "base_uri": "https://localhost:8080/"
        },
        "id": "Uj8xRAtlX2BT",
        "outputId": "d3252975-75d4-4e91-9791-fe1654d40dba"
      },
      "execution_count": null,
      "outputs": [
        {
          "output_type": "stream",
          "name": "stdout",
          "text": [
            "Problema de tipos!\n"
          ]
        }
      ]
    },
    {
      "cell_type": "code",
      "source": [
        "#finally: puede ubicarse un bloque finally donde se escriben las sentencias de finalización, que son típicamente acciones de limpieza\n",
        "try:\n",
        "    archi1=open(\"datos.txt\",\"w\") \n",
        "    archi1.write(\"Primer línea.\\n\") \n",
        "    archi1.write(\"Segunda línea.\\n\") \n",
        "    archi1.write(\"Tercer línea.\\n\")  \n",
        "    archi1.write(3334)\n",
        "except TypeError:\n",
        "    print(\"No se puede grabar un entero con write\")    \n",
        "finally:\n",
        "    archi1.close() \n",
        "    print(\"Se cerró el archivo\")"
      ],
      "metadata": {
        "colab": {
          "base_uri": "https://localhost:8080/"
        },
        "id": "9leBjmimX3Nr",
        "outputId": "8a69c6df-d2de-461e-91da-ba6e507fcfce"
      },
      "execution_count": 6,
      "outputs": [
        {
          "output_type": "stream",
          "name": "stdout",
          "text": [
            "No se puede grabar un entero con write\n",
            "Se cerró el archivo\n"
          ]
        }
      ]
    },
    {
      "cell_type": "code",
      "source": [
        "#for: El bucle for se utiliza para recorrer los elementos de un objeto iterable (lista, tupla, conjunto, diccionario,etc)\n",
        "for i in [1, 3, 5, 7, 9]:\n",
        "    x = i**2 - (i-1)*(i+1)\n",
        "    print(x, end=\", \")"
      ],
      "metadata": {
        "colab": {
          "base_uri": "https://localhost:8080/"
        },
        "id": "s1vBi0UZX5Xj",
        "outputId": "49e8bb6c-683b-41d1-acd6-f2c2db086680"
      },
      "execution_count": null,
      "outputs": [
        {
          "output_type": "stream",
          "name": "stdout",
          "text": [
            "1, 1, 1, 1, 1, "
          ]
        }
      ]
    },
    {
      "cell_type": "code",
      "source": [
        "#from: se utiliza en conjunto a la previa sentencia import para importar un módulo.\n",
        "import random\n",
        "def es_multiplo(x,y):\n",
        "  return x%y\n",
        "x=int(input(\"Escriba un numero: \"))\n",
        "y=int(input(\"Escriba otro numero: \"))\n",
        "\n",
        "from random import es_multiplo\n",
        "\n",
        "print(es_multiplo(x,y))"
      ],
      "metadata": {
        "colab": {
          "base_uri": "https://localhost:8080/",
          "height": 252
        },
        "id": "sA9Zu9a3X7hz",
        "outputId": "b3170c00-1c17-4839-d284-ccd924c470cf"
      },
      "execution_count": null,
      "outputs": [
        {
          "name": "stdout",
          "output_type": "stream",
          "text": [
            "Escriba un numero: l\n"
          ]
        },
        {
          "output_type": "error",
          "ename": "ValueError",
          "evalue": "ignored",
          "traceback": [
            "\u001b[0;31m---------------------------------------------------------------------------\u001b[0m",
            "\u001b[0;31mValueError\u001b[0m                                Traceback (most recent call last)",
            "\u001b[0;32m<ipython-input-43-c9f69dd92f82>\u001b[0m in \u001b[0;36m<module>\u001b[0;34m\u001b[0m\n\u001b[1;32m      3\u001b[0m \u001b[0;32mdef\u001b[0m \u001b[0mes_multiplo\u001b[0m\u001b[0;34m(\u001b[0m\u001b[0mx\u001b[0m\u001b[0;34m,\u001b[0m\u001b[0my\u001b[0m\u001b[0;34m)\u001b[0m\u001b[0;34m:\u001b[0m\u001b[0;34m\u001b[0m\u001b[0;34m\u001b[0m\u001b[0m\n\u001b[1;32m      4\u001b[0m   \u001b[0;32mreturn\u001b[0m \u001b[0mx\u001b[0m\u001b[0;34m%\u001b[0m\u001b[0my\u001b[0m\u001b[0;34m\u001b[0m\u001b[0;34m\u001b[0m\u001b[0m\n\u001b[0;32m----> 5\u001b[0;31m \u001b[0mx\u001b[0m\u001b[0;34m=\u001b[0m\u001b[0mint\u001b[0m\u001b[0;34m(\u001b[0m\u001b[0minput\u001b[0m\u001b[0;34m(\u001b[0m\u001b[0;34m\"Escriba un numero: \"\u001b[0m\u001b[0;34m)\u001b[0m\u001b[0;34m)\u001b[0m\u001b[0;34m\u001b[0m\u001b[0;34m\u001b[0m\u001b[0m\n\u001b[0m\u001b[1;32m      6\u001b[0m \u001b[0my\u001b[0m\u001b[0;34m=\u001b[0m\u001b[0mint\u001b[0m\u001b[0;34m(\u001b[0m\u001b[0minput\u001b[0m\u001b[0;34m(\u001b[0m\u001b[0;34m\"Escriba otro numero: \"\u001b[0m\u001b[0;34m)\u001b[0m\u001b[0;34m)\u001b[0m\u001b[0;34m\u001b[0m\u001b[0;34m\u001b[0m\u001b[0m\n\u001b[1;32m      7\u001b[0m \u001b[0;34m\u001b[0m\u001b[0m\n",
            "\u001b[0;31mValueError\u001b[0m: invalid literal for int() with base 10: 'l'"
          ]
        }
      ]
    },
    {
      "cell_type": "code",
      "source": [
        "#Global:El alcance global significa que la variable es accesible desde cualquier lugar del programa. \n",
        "date = \"17-06-2002\"\n",
        "\n",
        "def update_date():\n",
        "  global date \n",
        "  date = \"12-03-2021\"\n",
        "\n",
        "update_date()\n",
        "print(date)"
      ],
      "metadata": {
        "colab": {
          "base_uri": "https://localhost:8080/"
        },
        "id": "q26QYpPIX88j",
        "outputId": "49d55687-0541-4e95-a85f-164da95219dc"
      },
      "execution_count": null,
      "outputs": [
        {
          "output_type": "stream",
          "name": "stdout",
          "text": [
            "12-03-2021\n"
          ]
        }
      ]
    },
    {
      "cell_type": "code",
      "source": [
        "#import: La sentencia import se usa para importar funciones que han sido exportadas desde un módulo externo.\n",
        "import random"
      ],
      "metadata": {
        "id": "W0aVR5lOX-cT"
      },
      "execution_count": null,
      "outputs": []
    },
    {
      "cell_type": "code",
      "source": [
        "#in: Es un operador de pertenencia\n",
        "a = [1,2,3,4,5]\n",
        "print(3 in a )"
      ],
      "metadata": {
        "colab": {
          "base_uri": "https://localhost:8080/"
        },
        "id": "G9x7i66EX-4b",
        "outputId": "5a6de70c-8ba0-4c28-ba1a-87b10c5dc032"
      },
      "execution_count": null,
      "outputs": [
        {
          "output_type": "stream",
          "name": "stdout",
          "text": [
            "True\n"
          ]
        }
      ]
    },
    {
      "cell_type": "code",
      "source": [
        "#is: Es un operador de identidad\n",
        "a = 3\n",
        "b = 3  \n",
        "c = 4\n",
        "print(a is b)\n",
        "print(a is not b)\n",
        "print(a is not c)"
      ],
      "metadata": {
        "colab": {
          "base_uri": "https://localhost:8080/"
        },
        "id": "uNDnLbbLYAiL",
        "outputId": "f051a2b2-7c20-4ad9-8310-1fdd72287403"
      },
      "execution_count": null,
      "outputs": [
        {
          "output_type": "stream",
          "name": "stdout",
          "text": [
            "True\n",
            "False\n",
            "True\n"
          ]
        }
      ]
    },
    {
      "cell_type": "code",
      "source": [
        "#lambda: se usa cuando necesitas una función sencilla y de rápido acceso\n",
        "mi_lista = [1, 2, 3, 4, 5, 6]\n",
        "lista_nueva = list(map(lambda x: x * 2, mi_lista))\n",
        "print(lista_nueva)  # [2, 4, 6, 8, 10, 12]"
      ],
      "metadata": {
        "colab": {
          "base_uri": "https://localhost:8080/"
        },
        "id": "7ujroUsKYBuD",
        "outputId": "f44cfbd8-15d5-4c41-b91f-1c4dcd9c047c"
      },
      "execution_count": null,
      "outputs": [
        {
          "output_type": "stream",
          "name": "stdout",
          "text": [
            "[2, 4, 6, 8, 10, 12]\n"
          ]
        }
      ]
    },
    {
      "cell_type": "code",
      "source": [
        "#nonlocal:se utiliza para establecer el alcance de una variable en particular. Se utiliza principalmente en los casos en que se produce el anidamiento en un programa.\n",
        "a = 0\n",
        "def outr():\n",
        "    a = 1\n",
        "    def innr():\n",
        "        nonlocal a\n",
        "        a = 2\n",
        "        print(\"x:\", a)\n",
        "    innr()\n",
        "    print(\"y:\", a)\n",
        "outr()\n",
        "print(\"z:\", a)"
      ],
      "metadata": {
        "colab": {
          "base_uri": "https://localhost:8080/"
        },
        "id": "TVw7I2P_YC56",
        "outputId": "71a843c6-ccfb-4686-be19-d693e117d632"
      },
      "execution_count": null,
      "outputs": [
        {
          "output_type": "stream",
          "name": "stdout",
          "text": [
            "x: 2\n",
            "y: 2\n",
            "z: 0\n"
          ]
        }
      ]
    },
    {
      "cell_type": "code",
      "source": [
        "\n",
        "#not: actúa como operador de negación.\n",
        "x=9\n",
        "y=10\n",
        "if not x+y==20:\n",
        "  print(\"juan\")\n",
        "else:\n",
        "  print(\"AHAAAA!\")"
      ],
      "metadata": {
        "colab": {
          "base_uri": "https://localhost:8080/"
        },
        "id": "WTCN5vd1YEGq",
        "outputId": "97349c04-93af-46be-d575-c2a7fca427b3"
      },
      "execution_count": null,
      "outputs": [
        {
          "output_type": "stream",
          "name": "stdout",
          "text": [
            "juah xd\n"
          ]
        }
      ]
    },
    {
      "cell_type": "code",
      "source": [
        "\n",
        "#or: Devuelve True si alguno de los operandos es True (A o B)\n",
        "if (8+12020 or 7-10)>0:\n",
        "  print(\"ETSEHC\")\n",
        "else:\n",
        "  print(\"ELPEPE\")"
      ],
      "metadata": {
        "colab": {
          "base_uri": "https://localhost:8080/"
        },
        "id": "sf6DDgLdYFPS",
        "outputId": "75900008-7281-4e20-ead3-f66680094121"
      },
      "execution_count": 8,
      "outputs": [
        {
          "output_type": "stream",
          "name": "stdout",
          "text": [
            "ETSEHC\n"
          ]
        }
      ]
    },
    {
      "cell_type": "code",
      "source": [
        "#pass: le indica al programa que ignore esa condición y continúe ejecutando el programa como de costumbre\n",
        "number = 0\n",
        "\n",
        "for number in range(10):\n",
        "    if number == 5:\n",
        "        pass    \n",
        "\n",
        "    print('número ' + str(number))\n",
        "\n",
        "print('GANO')"
      ],
      "metadata": {
        "colab": {
          "base_uri": "https://localhost:8080/"
        },
        "id": "7GfLE1rCYGZC",
        "outputId": "3b0e683b-d19d-4264-c3ba-19c50a6154f1"
      },
      "execution_count": 9,
      "outputs": [
        {
          "output_type": "stream",
          "name": "stdout",
          "text": [
            "número 0\n",
            "número 1\n",
            "número 2\n",
            "número 3\n",
            "número 4\n",
            "número 5\n",
            "número 6\n",
            "número 7\n",
            "número 8\n",
            "número 9\n",
            "GANO\n"
          ]
        }
      ]
    },
    {
      "cell_type": "code",
      "source": [
        "\n",
        "#raise:Para levantar una excepción de cualquier tipo\n",
        "x = -1\n",
        "\n",
        "if x < 0:\n",
        "  raise Exception(\"Sorry, no numbers below zero\")"
      ],
      "metadata": {
        "id": "nVJlY2NxYHli",
        "colab": {
          "base_uri": "https://localhost:8080/",
          "height": 200
        },
        "outputId": "0aade6b7-9d89-4413-d8af-bdf06ce6900b"
      },
      "execution_count": 10,
      "outputs": [
        {
          "output_type": "error",
          "ename": "Exception",
          "evalue": "ignored",
          "traceback": [
            "\u001b[0;31m---------------------------------------------------------------------------\u001b[0m",
            "\u001b[0;31mException\u001b[0m                                 Traceback (most recent call last)",
            "\u001b[0;32m<ipython-input-10-075459485bc9>\u001b[0m in \u001b[0;36m<module>\u001b[0;34m\u001b[0m\n\u001b[1;32m      3\u001b[0m \u001b[0;34m\u001b[0m\u001b[0m\n\u001b[1;32m      4\u001b[0m \u001b[0;32mif\u001b[0m \u001b[0mx\u001b[0m \u001b[0;34m<\u001b[0m \u001b[0;36m0\u001b[0m\u001b[0;34m:\u001b[0m\u001b[0;34m\u001b[0m\u001b[0;34m\u001b[0m\u001b[0m\n\u001b[0;32m----> 5\u001b[0;31m   \u001b[0;32mraise\u001b[0m \u001b[0mException\u001b[0m\u001b[0;34m(\u001b[0m\u001b[0;34m\"Sorry, no numbers below zero\"\u001b[0m\u001b[0;34m)\u001b[0m\u001b[0;34m\u001b[0m\u001b[0;34m\u001b[0m\u001b[0m\n\u001b[0m",
            "\u001b[0;31mException\u001b[0m: Sorry, no numbers below zero"
          ]
        }
      ]
    },
    {
      "cell_type": "code",
      "source": [
        "\n",
        "#return: e utiliza para establecer el resultado (o valor de retorno) de una función.\n",
        "def cube(x):\n",
        "   r=x**3\n",
        "   return r"
      ],
      "metadata": {
        "id": "jvtJv9p0YIva"
      },
      "execution_count": 13,
      "outputs": []
    },
    {
      "cell_type": "code",
      "source": [
        "#try:EL bloque try es el bloque con las sentencias que quieres ejecutar.\n",
        "import math\n",
        "\n",
        "def RaizCuadrada(numero):\n",
        "    try:\n",
        "       return math.sqrt(numero)\n",
        "    except ValueError:\n",
        "       return 'Error: No se puede calcular la raíz cuadrada de ' + str(numero)\n",
        "\n",
        "print(RaizCuadrada(4))\n",
        "print(RaizCuadrada(13))\n",
        "print(RaizCuadrada(100))\n",
        "print(RaizCuadrada(-1))\n",
        "print(RaizCuadrada(25))"
      ],
      "metadata": {
        "colab": {
          "base_uri": "https://localhost:8080/"
        },
        "id": "fJjwTfeeYJ2r",
        "outputId": "c1ece9ff-d965-4ce3-c539-6fa5a8853a9b"
      },
      "execution_count": null,
      "outputs": [
        {
          "output_type": "stream",
          "name": "stdout",
          "text": [
            "2.0\n",
            "3.605551275463989\n",
            "10.0\n",
            "Error: No se puede calcular la raíz cuadrada de -1\n",
            "5.0\n"
          ]
        }
      ]
    },
    {
      "cell_type": "code",
      "source": [
        "#while: evalúa una condición y luego ejecuta un bloque de código si la condición es verdadera\n",
        "dia = 0    \n",
        "semana = ['Lunes', 'Martes', 'Miércoles', 'Jueves', 'Viernes', 'Sabado', 'Domingo']\n",
        "while dia < 7:\n",
        "   print(\"Hoy es \" + semana[dia])\n",
        "   dia += 1"
      ],
      "metadata": {
        "colab": {
          "base_uri": "https://localhost:8080/"
        },
        "id": "_Jdx0OWkYLQC",
        "outputId": "3837086e-4358-4f83-e8b2-ac8d3304b097"
      },
      "execution_count": null,
      "outputs": [
        {
          "output_type": "stream",
          "name": "stdout",
          "text": [
            "Hoy es Lunes\n",
            "Hoy es Martes\n",
            "Hoy es Miércoles\n",
            "Hoy es Jueves\n",
            "Hoy es Viernes\n",
            "Hoy es Sabado\n",
            "Hoy es Domingo\n"
          ]
        }
      ]
    },
    {
      "cell_type": "code",
      "source": [
        "#with:se usa para ajustar la ejecución de un bloque con métodos definidos por un administrador de contexto\n",
        "\n",
        "with open('file_path', 'w') as file:\n",
        "\tfile.write('hello world !')\n",
        " \n",
        " #Toca tener un archivo para abrir xd"
      ],
      "metadata": {
        "id": "eYrRX8B0YM3a"
      },
      "execution_count": 11,
      "outputs": []
    },
    {
      "cell_type": "code",
      "source": [
        "#yield: es una orden muy similar a un return, con una gran diferencia, \n",
        "#yield pausará la ejecución de tu función y guardará el estado de la misma hasta que decidas usarla de nuevo\n",
        "def gen_func(x):\n",
        "    for i in range(x):\n",
        "        yield i"
      ],
      "metadata": {
        "id": "f5CGoyfWYPPq"
      },
      "execution_count": 12,
      "outputs": []
    },
    {
      "cell_type": "code",
      "source": [],
      "metadata": {
        "id": "g5OJywj4b7T3"
      },
      "execution_count": null,
      "outputs": []
    }
  ]
}